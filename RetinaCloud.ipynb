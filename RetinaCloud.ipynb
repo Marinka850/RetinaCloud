{
 "cells": [
  {
   "cell_type": "code",
   "execution_count": 3,
   "id": "b4193737-0d16-4c5f-9641-58aaa1adef4e",
   "metadata": {},
   "outputs": [
    {
     "name": "stderr",
     "output_type": "stream",
     "text": [
      "2024-12-29 20:18:45.499 Thread 'MainThread': missing ScriptRunContext! This warning can be ignored when running in bare mode.\n",
      "2024-12-29 20:18:45.500 Thread 'MainThread': missing ScriptRunContext! This warning can be ignored when running in bare mode.\n",
      "2024-12-29 20:18:45.501 Thread 'MainThread': missing ScriptRunContext! This warning can be ignored when running in bare mode.\n",
      "2024-12-29 20:18:45.502 Thread 'MainThread': missing ScriptRunContext! This warning can be ignored when running in bare mode.\n",
      "2024-12-29 20:18:45.503 Thread 'MainThread': missing ScriptRunContext! This warning can be ignored when running in bare mode.\n",
      "2024-12-29 20:18:45.504 Thread 'MainThread': missing ScriptRunContext! This warning can be ignored when running in bare mode.\n",
      "2024-12-29 20:18:45.505 Thread 'MainThread': missing ScriptRunContext! This warning can be ignored when running in bare mode.\n"
     ]
    }
   ],
   "source": [
    "import streamlit as st\n",
    "from PIL import Image\n",
    "from ultralytics import YOLO\n",
    "\n",
    "st.title(\"Image Classifier with YOLO\")\n",
    "\n",
    "upload_widget = st.file_uploader(label=\"Upload an image file\", type=[\"jpg\"])\n",
    "if upload_widget is not None:\n",
    "    image_file = upload_widget.get()\n",
    "    image_bytes = image_file.read()\n",
    "    image = Image.open(image_bytes)\n",
    "    st.image(image, channels=\"RGB\")\n",
    "\n",
    "    # Load the pre-trained YOLO model\n",
    "    yolo = YOLO(weights='yolov3.pt', config='yolov3.cfg')\n",
    "\n",
    "    # Predict class for the uploaded image\n",
    "    predictions = yolo.predict(image)\n",
    "\n",
    "    # Write the predicted class to the Streamlit app\n",
    "    st.write(\"Predicted class:\", predictions[0])"
   ]
  },
  {
   "cell_type": "code",
   "execution_count": null,
   "id": "112bb1b9-1dfb-4a4e-b2d8-2003e69511c5",
   "metadata": {},
   "outputs": [],
   "source": []
  }
 ],
 "metadata": {
  "kernelspec": {
   "display_name": "Python 3 (ipykernel)",
   "language": "python",
   "name": "python3"
  },
  "language_info": {
   "codemirror_mode": {
    "name": "ipython",
    "version": 3
   },
   "file_extension": ".py",
   "mimetype": "text/x-python",
   "name": "python",
   "nbconvert_exporter": "python",
   "pygments_lexer": "ipython3",
   "version": "3.11.7"
  }
 },
 "nbformat": 4,
 "nbformat_minor": 5
}
